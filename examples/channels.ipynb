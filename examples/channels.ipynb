{
 "cells": [
  {
   "cell_type": "code",
   "execution_count": 1,
   "metadata": {},
   "outputs": [],
   "source": [
    "import sys, os\n",
    "sys.path.insert(0, os.path.abspath(\"../\"))\n",
    "from controlunit import channels as ch"
   ]
  },
  {
   "cell_type": "code",
   "execution_count": 26,
   "metadata": {},
   "outputs": [],
   "source": [
    "ch3 = ch.ADC_CHANNELS[3]\n",
    "ch4 = ch.ADC_CHANNELS[4]\n",
    "ch1 = ch.ADC_CHANNELS[1]\n",
    "ch0 = ch.ADC_CHANNELS[0]"
   ]
  },
  {
   "cell_type": "code",
   "execution_count": 15,
   "metadata": {},
   "outputs": [
    {
     "data": {
      "text/plain": [
       "(0.1, 0.010000000000000002)"
      ]
     },
     "execution_count": 15,
     "metadata": {},
     "output_type": "execute_result"
    }
   ],
   "source": [
    "ch3.conversion(1), ch4.conversion(1)"
   ]
  },
  {
   "cell_type": "code",
   "execution_count": 24,
   "metadata": {},
   "outputs": [
    {
     "data": {
      "text/plain": [
       "3.475361614432054e-07"
      ]
     },
     "execution_count": 24,
     "metadata": {},
     "output_type": "execute_result"
    }
   ],
   "source": [
    "ch1.conversion(3)"
   ]
  },
  {
   "cell_type": "code",
   "execution_count": 30,
   "metadata": {},
   "outputs": [
    {
     "data": {
      "text/plain": [
       "0.001"
      ]
     },
     "execution_count": 30,
     "metadata": {},
     "output_type": "execute_result"
    }
   ],
   "source": [
    "ch0.conversion(1,0,-3)"
   ]
  },
  {
   "cell_type": "code",
   "execution_count": 32,
   "metadata": {},
   "outputs": [],
   "source": [
    "# ADC_SETTINGS[\"colnames converted\"] = [i + \"_c\" for i in ADC_SETTINGS[\"signal id\"]]\n",
    "# ADC_SETTINGS[\"colnames\"] = [\"date\", \"time\"] + ADC_SETTINGS[\"signal id\"] + [\"IGmode\", \"IGscale\", \"QMS_signal\"]\n",
    "ADC_CHANNELS = ch.ADC_CHANNELS"
   ]
  },
  {
   "cell_type": "code",
   "execution_count": 39,
   "metadata": {},
   "outputs": [
    {
     "data": {
      "text/plain": [
       "['Pd_c', 'Pu_c', 'Ip_c', 'Bu_c', 'Bd_c']"
      ]
     },
     "execution_count": 39,
     "metadata": {},
     "output_type": "execute_result"
    }
   ],
   "source": [
    "ADC_COLNAMES =  [\"date\", \"time\"] + [i.name for i in ADC_CHANNELS] + [\"IGmode\", \"IGscale\", \"QMS_signal\"]\n",
    "ADC_COLNAMES_CONV = [i + \"_c\" for i in [i.name for i in ADC_CHANNELS]]\n",
    "ADC_COLNAMES_CONV"
   ]
  }
 ],
 "metadata": {
  "kernelspec": {
   "display_name": "Python 3.9.5 ('base')",
   "language": "python",
   "name": "python3"
  },
  "language_info": {
   "codemirror_mode": {
    "name": "ipython",
    "version": 3
   },
   "file_extension": ".py",
   "mimetype": "text/x-python",
   "name": "python",
   "nbconvert_exporter": "python",
   "pygments_lexer": "ipython3",
   "version": "3.9.7"
  },
  "orig_nbformat": 4,
  "vscode": {
   "interpreter": {
    "hash": "91b55dc8dc5e894ef821af3234480c4f7342edd9774c8a815382590549856cb1"
   }
  }
 },
 "nbformat": 4,
 "nbformat_minor": 2
}
