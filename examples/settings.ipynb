{
 "cells": [
  {
   "cell_type": "code",
   "execution_count": 1,
   "metadata": {},
   "outputs": [],
   "source": [
    "import sys, os\n",
    "sys.path.insert(0, os.path.abspath(\"../\"))\n",
    "#from controlunit import channels as ch\n",
    "#from controlunit import conversions\n",
    "import yaml"
   ]
  },
  {
   "cell_type": "code",
   "execution_count": 2,
   "metadata": {},
   "outputs": [],
   "source": [
    "from controlunit.readsettings import init_configuration"
   ]
  },
  {
   "cell_type": "code",
   "execution_count": 5,
   "metadata": {},
   "outputs": [],
   "source": [
    "config = init_configuration('../controlunit/settings.yml')"
   ]
  },
  {
   "cell_type": "code",
   "execution_count": 6,
   "metadata": {},
   "outputs": [
    {
     "data": {
      "text/plain": [
       "{'Data Folder': '~/work/cudata',\n",
       " 'Path is Local': True,\n",
       " 'Sampling Rate': 0.1,\n",
       " 'Max Temperature': 1000,\n",
       " 'MAX6675 Channel': 0,\n",
       " 'Heater GPIO': 17,\n",
       " 'LED GPIO': 27,\n",
       " 'Temperature Columns': ['date', 'time', 'T', 'PresetT'],\n",
       " 'ADC Channels': {'Pd': {'Channel': 0,\n",
       "   'Gain': 10,\n",
       "   'Description': 'Ionization Gauge (downstream)',\n",
       "   'Conversion Function': 'Ionization Gauge'},\n",
       "  'Pu': {'Channel': 1,\n",
       "   'Gain': 10,\n",
       "   'Description': 'Pfeffer  Single Gauge (upstream)',\n",
       "   'Conversion Function': 'Pfeiffer Single Gauge'},\n",
       "  'Ip': {'Channel': 2,\n",
       "   'Gain': 5,\n",
       "   'Description': 'Plasma Current',\n",
       "   'Conversion Function': 'Hall Sensor'},\n",
       "  'Bu': {'Channel': 3,\n",
       "   'Gain': 1,\n",
       "   'Description': 'Baratron MKS 627 FS = 1 Torr (upstream)',\n",
       "   'Conversion Function': 'Baratron',\n",
       "   'Full Scale': 1.0},\n",
       "  'Bd': {'Channel': 4,\n",
       "   'Gain': 1,\n",
       "   'Description': 'Baratron MKS 628B.1TDF2b FS = 0.1 Torr (downstream)',\n",
       "   'Conversion Function': 'Baratron',\n",
       "   'Full Scale': 0.1}},\n",
       " 'ADC Additional Columns': ['date', 'time', 'IGmode', 'IGscale', 'QMS_signal'],\n",
       " 'Adc Channel Properties': {'Pd': <channels.AdcChannelProps at 0x21a6134b100>,\n",
       "  'Pu': <channels.AdcChannelProps at 0x21a62493be0>,\n",
       "  'Ip': <channels.AdcChannelProps at 0x21a62493f70>,\n",
       "  'Bu': <channels.AdcChannelProps at 0x21a624939d0>,\n",
       "  'Bd': <channels.AdcChannelProps at 0x21a627f6b20>}}"
      ]
     },
     "execution_count": 6,
     "metadata": {},
     "output_type": "execute_result"
    }
   ],
   "source": [
    "config"
   ]
  }
 ],
 "metadata": {
  "kernelspec": {
   "display_name": "Python 3.9.5 ('base')",
   "language": "python",
   "name": "python3"
  },
  "language_info": {
   "codemirror_mode": {
    "name": "ipython",
    "version": 3
   },
   "file_extension": ".py",
   "mimetype": "text/x-python",
   "name": "python",
   "nbconvert_exporter": "python",
   "pygments_lexer": "ipython3",
   "version": "3.9.7"
  },
  "orig_nbformat": 4,
  "vscode": {
   "interpreter": {
    "hash": "91b55dc8dc5e894ef821af3234480c4f7342edd9774c8a815382590549856cb1"
   }
  }
 },
 "nbformat": 4,
 "nbformat_minor": 2
}
