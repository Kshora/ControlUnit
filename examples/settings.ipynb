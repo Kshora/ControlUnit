{
 "cells": [
  {
   "cell_type": "code",
   "execution_count": 1,
   "metadata": {},
   "outputs": [],
   "source": [
    "import sys, os\n",
    "sys.path.insert(0, os.path.abspath(\"../\"))\n",
    "#from controlunit import channels as ch\n",
    "#from controlunit import conversions\n",
    "import yaml"
   ]
  },
  {
   "cell_type": "code",
   "execution_count": 2,
   "metadata": {},
   "outputs": [],
   "source": [
    "def load_settings(path_to_file):\n",
    "    with open(path_to_file, \"r\") as stream:\n",
    "        try:\n",
    "            return yaml.safe_load(stream)\n",
    "        except yaml.YAMLError as exc:\n",
    "            print(exc)"
   ]
  },
  {
   "cell_type": "code",
   "execution_count": 3,
   "metadata": {},
   "outputs": [],
   "source": [
    "st = load_settings(\"settings.yml\")"
   ]
  },
  {
   "cell_type": "code",
   "execution_count": 4,
   "metadata": {},
   "outputs": [
    {
     "data": {
      "text/plain": [
       "{'Data Folder': '~/work/cudata',\n",
       " 'Path is Local': True,\n",
       " 'Sampling Rate': 0.1,\n",
       " 'Max Temperature': 1000,\n",
       " 'MAX6675 Channel': 0,\n",
       " 'Heater GPIO': 17,\n",
       " 'LED GPIO': 27,\n",
       " 'Temperature Columns': ['date', 'time', 'T', 'PresetT'],\n",
       " 'ADC Channels': {'Pd': {'Channel': 0,\n",
       "   'Gain': 10,\n",
       "   'Description': 'Ionization Gauge (downstream)',\n",
       "   'Conversion Function': 'Ionization Gauge'},\n",
       "  'Pu': {'Channel': 1,\n",
       "   'Gain': 10,\n",
       "   'Description': 'Pfeffer  Single Gauge (upstream)',\n",
       "   'Conversion Function': 'Pfeiffer Single Gauge'},\n",
       "  'Ip': {'Channel': 2,\n",
       "   'Gain': 5,\n",
       "   'Description': 'Plasma Current',\n",
       "   'Conversion Function': 'Hall Sensor'},\n",
       "  'Bu': {'Channel': 3,\n",
       "   'Gain': 1,\n",
       "   'Description': 'Baratron MKS 627 FS = 1 Torr (upstream)',\n",
       "   'Conversion Function': 'Baratron',\n",
       "   'Full Scale': 1.0},\n",
       "  'Bd': {'Channel': 4,\n",
       "   'Gain': 1,\n",
       "   'Description': 'Baratron MKS 628B.1TDF2b FS = 0.1 Torr (downstream)',\n",
       "   'Conversion Function': 'Baratron',\n",
       "   'Full Scale': 0.1}},\n",
       " 'ADC Additional Columns': ['date', 'time', 'IGmode', 'IGscale', 'QMS_signal']}"
      ]
     },
     "execution_count": 4,
     "metadata": {},
     "output_type": "execute_result"
    }
   ],
   "source": [
    "st"
   ]
  },
  {
   "cell_type": "code",
   "execution_count": 5,
   "metadata": {},
   "outputs": [
    {
     "data": {
      "text/plain": [
       "0.1"
      ]
     },
     "execution_count": 5,
     "metadata": {},
     "output_type": "execute_result"
    }
   ],
   "source": [
    "st['ADC Channels']['Bd']['Full Scale']"
   ]
  },
  {
   "cell_type": "code",
   "execution_count": 6,
   "metadata": {},
   "outputs": [],
   "source": [
    "ad1 = list(st['ADC Channels'])[0]"
   ]
  },
  {
   "cell_type": "code",
   "execution_count": 7,
   "metadata": {},
   "outputs": [],
   "source": [
    "class AdcChannelProps:\n",
    "    \"\"\"\n",
    "    ADC channel properties\n",
    "    \"\"\"\n",
    "\n",
    "    def __init__(self, *arg, **kws) -> None:\n",
    "        \"\"\"\n",
    "        Arguments\n",
    "        ----------\n",
    "        [name,channel, gain, description, conversion]\n",
    "        \"\"\"\n",
    "        self.name = arg[0]        \n",
    "        self.channel = kws['Channel']\n",
    "        self.gain = kws['Gain']        \n",
    "        self.description = kws['Description']\n",
    "        self.conversion_id = kws['Conversion Function']\n",
    "        self.full_scale = kws.get('Full Scale',None)\n",
    "        self.set_conversion_function()\n",
    "\n",
    "    def set_conversion_function(self):\n",
    "        \"\"\"\n",
    "        Select conversion function from a dict by conversion_id\n",
    "        \"\"\"\n",
    "        from controlunit.conversions import ionization_gauge, hall_current_sensor, pfeiffer_single_gauge, baratron\n",
    "        \n",
    "        conversions = {\n",
    "            \"Ionization Gauge\": ionization_gauge,\n",
    "            \"Pfeiffer Single Gauge\": pfeiffer_single_gauge,\n",
    "            \"Hall Sensor\": hall_current_sensor,\n",
    "            \"No Conversion\": lambda v: v\n",
    "        }\n",
    "\n",
    "        if self.conversion_id == 'Baratron':\n",
    "            self.conversion = lambda v : baratron(v,self.full_scale)\n",
    "            return\n",
    "        \n",
    "        self.conversion = conversions[self.conversion_id]\n"
   ]
  },
  {
   "cell_type": "code",
   "execution_count": 8,
   "metadata": {},
   "outputs": [],
   "source": [
    "channels = {name:AdcChannelProps(name,**st['ADC Channels'][name]) for name in list(st['ADC Channels'])}"
   ]
  },
  {
   "cell_type": "code",
   "execution_count": 21,
   "metadata": {},
   "outputs": [
    {
     "data": {
      "text/plain": [
       "2.4"
      ]
     },
     "execution_count": 21,
     "metadata": {},
     "output_type": "execute_result"
    }
   ],
   "source": [
    "channels['Ip'].conversion(3)"
   ]
  },
  {
   "cell_type": "code",
   "execution_count": 11,
   "metadata": {},
   "outputs": [
    {
     "data": {
      "text/plain": [
       "'Ionization Gauge'"
      ]
     },
     "execution_count": 11,
     "metadata": {},
     "output_type": "execute_result"
    }
   ],
   "source": [
    "channels['Pd'].conversion_id"
   ]
  }
 ],
 "metadata": {
  "kernelspec": {
   "display_name": "Python 3.9.5 ('base')",
   "language": "python",
   "name": "python3"
  },
  "language_info": {
   "codemirror_mode": {
    "name": "ipython",
    "version": 3
   },
   "file_extension": ".py",
   "mimetype": "text/x-python",
   "name": "python",
   "nbconvert_exporter": "python",
   "pygments_lexer": "ipython3",
   "version": "3.9.7"
  },
  "orig_nbformat": 4,
  "vscode": {
   "interpreter": {
    "hash": "91b55dc8dc5e894ef821af3234480c4f7342edd9774c8a815382590549856cb1"
   }
  }
 },
 "nbformat": 4,
 "nbformat_minor": 2
}
